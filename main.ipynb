{
 "cells": [
  {
   "cell_type": "markdown",
   "id": "02a39db4-329f-4a18-961e-1bcb726530a2",
   "metadata": {},
   "source": [
    "# Cinestats: Movie Data Analytics Project\n",
    "\n",
    "**Cinestats** is a data analytics project focused on analyzing and extracting insights from movie-related data. The dataset includes various details about popular movies, such as ratings, genres, release dates, and more. The goal of this project is to explore data cleaning techniques, apply statistical methods, and visualize relationships in the data.\n",
    "\n",
    "This project was initiated because of a deep interest in movies and a desire to enhance data analytics skills through real-world applications. The aim is to provide meaningful insights into trends in the movie industry, including popular genres, top-rated movies, and the correlation between movie popularity and user ratings.\n",
    "\n",
    "## Key Objectives:\n",
    "- Data cleaning and preprocessing\n",
    "- Exploratory data analysis (EDA) and data visualization\n",
    "- Identifying trends and relationships in movie data\n",
    "- Gaining insights from the movie industry for better decision-making\n"
   ]
  },
  {
   "cell_type": "code",
   "execution_count": null,
   "id": "5ddc510d-43fa-4486-9136-0c9f100ab7b0",
   "metadata": {},
   "outputs": [],
   "source": [
    "import requests\n",
    "import csv\n",
    "import time\n",
    "\n",
    "# API Key and URL\n",
    "api_key = 'API_KEY'\n",
    "base_url = 'https://api.themoviedb.org/3/movie/popular'\n",
    "csv_file_path = 'movies_data.csv'\n",
    "\n",
    "# Define CSV fieldnames based on the full set of fields\n",
    "fieldnames = [\n",
    "    \"adult\", \"backdrop_path\", \"genre_ids\", \"id\", \"original_language\", \"original_title\", \n",
    "    \"overview\", \"popularity\", \"poster_path\", \"release_date\", \"title\", \"video\", \n",
    "    \"vote_average\", \"vote_count\"\n",
    "]\n",
    "\n",
    "# Initialize the CSV file\n",
    "with open(csv_file_path, mode='w', newline='', encoding='utf-8') as file:\n",
    "    writer = csv.DictWriter(file, fieldnames=fieldnames)\n",
    "    writer.writeheader()\n",
    "\n",
    "    # Loop through pages 1 to 500\n",
    "    for page in range(1, 501):\n",
    "        url = f'{base_url}?api_key={api_key}&language=en-US&page={page}'\n",
    "        response = requests.get(url)\n",
    "\n",
    "        if response.status_code == 200:\n",
    "            data = response.json()\n",
    "            movies = data.get(\"results\", [])\n",
    "\n",
    "            # Write each movie's data into the CSV\n",
    "            for movie in movies:\n",
    "                writer.writerow({\n",
    "                    \"adult\": movie.get(\"adult\", \"\"),\n",
    "                    \"backdrop_path\": movie.get(\"backdrop_path\", \"\"),\n",
    "                    \"genre_ids\": movie.get(\"genre_ids\", \"\"),\n",
    "                    \"id\": movie.get(\"id\", \"\"),\n",
    "                    \"original_language\": movie.get(\"original_language\", \"\"),\n",
    "                    \"original_title\": movie.get(\"original_title\", \"\"),\n",
    "                    \"overview\": movie.get(\"overview\", \"\"),\n",
    "                    \"popularity\": movie.get(\"popularity\", \"\"),\n",
    "                    \"poster_path\": movie.get(\"poster_path\", \"\"),\n",
    "                    \"release_date\": movie.get(\"release_date\", \"\"),\n",
    "                    \"title\": movie.get(\"title\", \"\"),\n",
    "                    \"video\": movie.get(\"video\", \"\"),\n",
    "                    \"vote_average\": movie.get(\"vote_average\", \"\"),\n",
    "                    \"vote_count\": movie.get(\"vote_count\", \"\")\n",
    "                })\n",
    "        else:\n",
    "            print(f\"Failed to fetch data for page {page}. Status code: {response.status_code}\")\n",
    "            break\n",
    "\n",
    "print(f\"Data has been saved to {csv_file_path}\")"
   ]
  }
 ],
 "metadata": {
  "kernelspec": {
   "display_name": "Python 3 (ipykernel)",
   "language": "python",
   "name": "python3"
  },
  "language_info": {
   "codemirror_mode": {
    "name": "ipython",
    "version": 3
   },
   "file_extension": ".py",
   "mimetype": "text/x-python",
   "name": "python",
   "nbconvert_exporter": "python",
   "pygments_lexer": "ipython3",
   "version": "3.13.0"
  }
 },
 "nbformat": 4,
 "nbformat_minor": 5
}
